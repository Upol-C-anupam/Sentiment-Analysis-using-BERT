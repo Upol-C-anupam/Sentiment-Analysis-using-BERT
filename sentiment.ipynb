{
 "cells": [
  {
   "cell_type": "markdown",
   "id": "9a180e4a-582e-4b15-b706-4c275c108633",
   "metadata": {},
   "source": [
    "# 1. Install and Import dependencies"
   ]
  },
  {
   "cell_type": "code",
   "execution_count": 4,
   "id": "f377f1a4-abc7-42db-8f0a-6dff2a5641d5",
   "metadata": {
    "tags": []
   },
   "outputs": [
    {
     "name": "stdout",
     "output_type": "stream",
     "text": [
      "True\n"
     ]
    }
   ],
   "source": [
    "import torch\n",
    "print(torch.cuda.is_available())\n"
   ]
  },
  {
   "cell_type": "code",
   "execution_count": 5,
   "id": "811c2d6d-5e4c-4286-9586-bc10ac502780",
   "metadata": {
    "tags": []
   },
   "outputs": [
    {
     "name": "stdout",
     "output_type": "stream",
     "text": [
      "Requirement already satisfied: transformers in c:\\users\\asus\\.conda\\envs\\python38\\lib\\site-packages (4.34.0)\n",
      "Requirement already satisfied: requests in c:\\users\\asus\\.conda\\envs\\python38\\lib\\site-packages (2.31.0)\n",
      "Requirement already satisfied: beautifulsoup4 in c:\\users\\asus\\.conda\\envs\\python38\\lib\\site-packages (4.12.2)\n",
      "Requirement already satisfied: pandas in c:\\users\\asus\\.conda\\envs\\python38\\lib\\site-packages (2.0.3)\n",
      "Requirement already satisfied: numpy in c:\\users\\asus\\.conda\\envs\\python38\\lib\\site-packages (1.24.3)\n",
      "Requirement already satisfied: filelock in c:\\users\\asus\\.conda\\envs\\python38\\lib\\site-packages (from transformers) (3.12.4)\n",
      "Requirement already satisfied: huggingface-hub<1.0,>=0.16.4 in c:\\users\\asus\\.conda\\envs\\python38\\lib\\site-packages (from transformers) (0.17.3)\n",
      "Requirement already satisfied: packaging>=20.0 in c:\\users\\asus\\.conda\\envs\\python38\\lib\\site-packages (from transformers) (23.1)\n",
      "Requirement already satisfied: pyyaml>=5.1 in c:\\users\\asus\\.conda\\envs\\python38\\lib\\site-packages (from transformers) (6.0)\n",
      "Requirement already satisfied: regex!=2019.12.17 in c:\\users\\asus\\.conda\\envs\\python38\\lib\\site-packages (from transformers) (2023.10.3)\n",
      "Requirement already satisfied: tokenizers<0.15,>=0.14 in c:\\users\\asus\\.conda\\envs\\python38\\lib\\site-packages (from transformers) (0.14.1)\n",
      "Requirement already satisfied: safetensors>=0.3.1 in c:\\users\\asus\\.conda\\envs\\python38\\lib\\site-packages (from transformers) (0.4.0)\n",
      "Requirement already satisfied: tqdm>=4.27 in c:\\users\\asus\\.conda\\envs\\python38\\lib\\site-packages (from transformers) (4.66.1)\n",
      "Requirement already satisfied: charset-normalizer<4,>=2 in c:\\users\\asus\\.conda\\envs\\python38\\lib\\site-packages (from requests) (2.0.4)\n",
      "Requirement already satisfied: idna<4,>=2.5 in c:\\users\\asus\\.conda\\envs\\python38\\lib\\site-packages (from requests) (3.4)\n",
      "Requirement already satisfied: urllib3<3,>=1.21.1 in c:\\users\\asus\\.conda\\envs\\python38\\lib\\site-packages (from requests) (1.26.16)\n",
      "Requirement already satisfied: certifi>=2017.4.17 in c:\\users\\asus\\.conda\\envs\\python38\\lib\\site-packages (from requests) (2023.7.22)\n",
      "Requirement already satisfied: soupsieve>1.2 in c:\\users\\asus\\.conda\\envs\\python38\\lib\\site-packages (from beautifulsoup4) (2.5)\n",
      "Requirement already satisfied: python-dateutil>=2.8.2 in c:\\users\\asus\\.conda\\envs\\python38\\lib\\site-packages (from pandas) (2.8.2)\n",
      "Requirement already satisfied: pytz>=2020.1 in c:\\users\\asus\\.conda\\envs\\python38\\lib\\site-packages (from pandas) (2023.3.post1)\n",
      "Requirement already satisfied: tzdata>=2022.1 in c:\\users\\asus\\.conda\\envs\\python38\\lib\\site-packages (from pandas) (2023.3)\n",
      "Requirement already satisfied: fsspec in c:\\users\\asus\\.conda\\envs\\python38\\lib\\site-packages (from huggingface-hub<1.0,>=0.16.4->transformers) (2023.9.2)\n",
      "Requirement already satisfied: typing-extensions>=3.7.4.3 in c:\\users\\asus\\.conda\\envs\\python38\\lib\\site-packages (from huggingface-hub<1.0,>=0.16.4->transformers) (4.7.1)\n",
      "Requirement already satisfied: six>=1.5 in c:\\users\\asus\\.conda\\envs\\python38\\lib\\site-packages (from python-dateutil>=2.8.2->pandas) (1.16.0)\n",
      "Requirement already satisfied: colorama in c:\\users\\asus\\.conda\\envs\\python38\\lib\\site-packages (from tqdm>=4.27->transformers) (0.4.6)\n"
     ]
    }
   ],
   "source": [
    "!pip install transformers requests beautifulsoup4 pandas numpy"
   ]
  },
  {
   "cell_type": "code",
   "execution_count": 6,
   "id": "4d1b8039-4dbb-4739-a5b1-178bbafc0c04",
   "metadata": {
    "tags": []
   },
   "outputs": [],
   "source": [
    "from transformers import AutoTokenizer, AutoModelForSequenceClassification\n",
    "import requests\n",
    "from bs4 import BeautifulSoup\n",
    "import re"
   ]
  },
  {
   "cell_type": "markdown",
   "id": "7046a1b6-635d-40f9-996d-424eff0fa785",
   "metadata": {},
   "source": [
    "# 2 Instantiate model"
   ]
  },
  {
   "cell_type": "code",
   "execution_count": 7,
   "id": "e4262e7d-2cdf-49bb-aefd-fabd0cab70d4",
   "metadata": {
    "scrolled": true,
    "tags": []
   },
   "outputs": [],
   "source": [
    "tokenizer = AutoTokenizer.from_pretrained('nlptown/bert-base-multilingual-uncased-sentiment')\n",
    "\n",
    "model = AutoModelForSequenceClassification.from_pretrained('nlptown/bert-base-multilingual-uncased-sentiment')"
   ]
  },
  {
   "cell_type": "markdown",
   "id": "3d8546af-a306-4695-ae4e-9927f9cc3f5d",
   "metadata": {},
   "source": [
    "# 3 Encode and calculate sentiment"
   ]
  },
  {
   "cell_type": "code",
   "execution_count": 8,
   "id": "9ac2c37c-7f88-47e9-a06d-02203941db0f",
   "metadata": {
    "tags": []
   },
   "outputs": [],
   "source": [
    "tokens = tokenizer.encode('It was good but couldve been better. Great', return_tensors='pt')"
   ]
  },
  {
   "cell_type": "code",
   "execution_count": 9,
   "id": "ec35467e-17f5-4c20-acbf-4e96d0a9a9e4",
   "metadata": {
    "tags": []
   },
   "outputs": [
    {
     "data": {
      "text/plain": [
       "tensor([  101, 10197, 10140, 12050, 10502, 12296, 10598, 10662, 16197,   119,\n",
       "        11838,   102])"
      ]
     },
     "execution_count": 9,
     "metadata": {},
     "output_type": "execute_result"
    }
   ],
   "source": [
    "tokens[0]"
   ]
  },
  {
   "cell_type": "code",
   "execution_count": 10,
   "id": "2ac17674-b52b-4a42-8539-4c3ff8c2b312",
   "metadata": {
    "tags": []
   },
   "outputs": [
    {
     "data": {
      "text/plain": [
       "'[CLS] it was good but couldve been better. great [SEP]'"
      ]
     },
     "execution_count": 10,
     "metadata": {},
     "output_type": "execute_result"
    }
   ],
   "source": [
    "tokenizer.decode(tokens[0])"
   ]
  },
  {
   "cell_type": "code",
   "execution_count": 11,
   "id": "9eb729cd-76ed-4c79-b8c5-08f0c34c630c",
   "metadata": {
    "tags": []
   },
   "outputs": [
    {
     "data": {
      "text/plain": [
       "tensor([[-2.7768, -1.2353,  1.4419,  1.9804,  0.4584]],\n",
       "       grad_fn=<AddmmBackward0>)"
      ]
     },
     "execution_count": 11,
     "metadata": {},
     "output_type": "execute_result"
    }
   ],
   "source": [
    "result = model(tokens)\n",
    "result.logits"
   ]
  },
  {
   "cell_type": "code",
   "execution_count": 12,
   "id": "5bc471c0-d563-49a0-987f-147f38b340c9",
   "metadata": {
    "tags": []
   },
   "outputs": [
    {
     "data": {
      "text/plain": [
       "4"
      ]
     },
     "execution_count": 12,
     "metadata": {},
     "output_type": "execute_result"
    }
   ],
   "source": [
    "int(torch.argmax(result.logits))+1"
   ]
  },
  {
   "cell_type": "markdown",
   "id": "cc273b58-b10d-4f1a-a505-abee8b260ab6",
   "metadata": {},
   "source": [
    "# 4 Collect Reviews"
   ]
  },
  {
   "cell_type": "code",
   "execution_count": null,
   "id": "cf8b268b-ef64-40fa-a54a-fea103928682",
   "metadata": {
    "tags": []
   },
   "outputs": [],
   "source": [
    "r = requests.get('https://www.tripadvisor.com/ShowUserReviews-g293936-d1063121-r122503332-Star-Dhaka_City_Dhaka_Division')\n",
    "soup = BeautifulSoup(r.text, 'html.parser')\n",
    "regex = re.compile('.*partial_entry.*')\n",
    "results = soup.find_all('p', {'class':regex})\n",
    "reviews = [result.text for result in results]"
   ]
  },
  {
   "cell_type": "code",
   "execution_count": 49,
   "id": "177b01ab-25dd-4576-b704-61c5eb81e415",
   "metadata": {
    "tags": []
   },
   "outputs": [],
   "source": [
    "reviews"
   ]
  },
  {
   "cell_type": "markdown",
   "id": "f62d26fc-7d40-4fae-bb0b-c918cc9132ff",
   "metadata": {},
   "source": [
    "# 5 Load Reviews into Dataframe and Score"
   ]
  },
  {
   "cell_type": "code",
   "execution_count": 30,
   "id": "3dae84e3-96fb-4182-80ca-b1330a79f107",
   "metadata": {
    "tags": []
   },
   "outputs": [],
   "source": [
    "import numpy as np\n",
    "import pandas as pd"
   ]
  },
  {
   "cell_type": "code",
   "execution_count": 32,
   "id": "5ca4641a-b400-411e-985c-0f07e3b4a357",
   "metadata": {
    "tags": []
   },
   "outputs": [],
   "source": [
    "df=pd.DataFrame(np.array(reviews), columns=['reviews'])"
   ]
  },
  {
   "cell_type": "code",
   "execution_count": 34,
   "id": "45ee95af-5ed8-4535-8bc4-0b70e7cf145e",
   "metadata": {
    "tags": []
   },
   "outputs": [
    {
     "data": {
      "text/plain": [
       "\"i have visited Star Kabab several times (Banani location and Dhanmondi as well). I took carry out - naan, boti kabab, chicken tikka and found them to be tasty, not dry as it most kabab places though I have tasted bbetter chicken karia eslewhere which they cook in a large tawa. But the prices were very reasonable. Once we had breakfast - paratas, egg ommelette, some meat dish, tea, and vegetables and the bill came so low I kept asking the waitter if this was correct. It wasn't even tk 200. Service is fast and i mean fast. Only thing you should keep in mind, its not the ideal setting for dinner dates, just a regular place with a regular no frills decor serving good kababs and etc. at very affordable rates. Can't go wrong with this place.\""
      ]
     },
     "execution_count": 34,
     "metadata": {},
     "output_type": "execute_result"
    }
   ],
   "source": [
    "df['reviews'].iloc[2]"
   ]
  },
  {
   "cell_type": "code",
   "execution_count": 35,
   "id": "10af0ab3-8ccf-46c1-bfb5-d9311b0920f6",
   "metadata": {
    "tags": []
   },
   "outputs": [],
   "source": [
    "def sentiment_score(reviews):\n",
    "    tokens = tokenizer.encode(reviews, return_tensors='pt')\n",
    "    result = model(tokens)\n",
    "    return int(torch.argmax(result.logits))+1"
   ]
  },
  {
   "cell_type": "code",
   "execution_count": 39,
   "id": "1940a13f-9ca7-4e06-b6fb-a62194f18915",
   "metadata": {
    "tags": []
   },
   "outputs": [
    {
     "data": {
      "text/plain": [
       "5"
      ]
     },
     "execution_count": 39,
     "metadata": {},
     "output_type": "execute_result"
    }
   ],
   "source": [
    "sentiment_score(df['reviews'].iloc[1])"
   ]
  },
  {
   "cell_type": "code",
   "execution_count": 41,
   "id": "ad4f4471-2881-46de-afc2-9b0a29a2f8a4",
   "metadata": {},
   "outputs": [],
   "source": [
    "df['Sentiment'] = df['reviews'].apply(lambda x : sentiment_score(x[:512]))"
   ]
  },
  {
   "cell_type": "code",
   "execution_count": 42,
   "id": "c85acbd8-e150-442f-8a9f-d3f7c39c5b7f",
   "metadata": {},
   "outputs": [
    {
     "data": {
      "text/html": [
       "<div>\n",
       "<style scoped>\n",
       "    .dataframe tbody tr th:only-of-type {\n",
       "        vertical-align: middle;\n",
       "    }\n",
       "\n",
       "    .dataframe tbody tr th {\n",
       "        vertical-align: top;\n",
       "    }\n",
       "\n",
       "    .dataframe thead th {\n",
       "        text-align: right;\n",
       "    }\n",
       "</style>\n",
       "<table border=\"1\" class=\"dataframe\">\n",
       "  <thead>\n",
       "    <tr style=\"text-align: right;\">\n",
       "      <th></th>\n",
       "      <th>reviews</th>\n",
       "      <th>Sentiment</th>\n",
       "    </tr>\n",
       "  </thead>\n",
       "  <tbody>\n",
       "    <tr>\n",
       "      <th>0</th>\n",
       "      <td>Yammy.... you will remember your whole life......</td>\n",
       "      <td>5</td>\n",
       "    </tr>\n",
       "    <tr>\n",
       "      <th>1</th>\n",
       "      <td>if u want to have a decent breakfast, a good l...</td>\n",
       "      <td>5</td>\n",
       "    </tr>\n",
       "    <tr>\n",
       "      <th>2</th>\n",
       "      <td>i have visited Star Kabab several times (Banan...</td>\n",
       "      <td>3</td>\n",
       "    </tr>\n",
       "    <tr>\n",
       "      <th>3</th>\n",
       "      <td>I went there several times when I went to BD. ...</td>\n",
       "      <td>4</td>\n",
       "    </tr>\n",
       "    <tr>\n",
       "      <th>4</th>\n",
       "      <td>Food is relly tasty..but da environment is hor...</td>\n",
       "      <td>1</td>\n",
       "    </tr>\n",
       "  </tbody>\n",
       "</table>\n",
       "</div>"
      ],
      "text/plain": [
       "                                             reviews  Sentiment\n",
       "0  Yammy.... you will remember your whole life......          5\n",
       "1  if u want to have a decent breakfast, a good l...          5\n",
       "2  i have visited Star Kabab several times (Banan...          3\n",
       "3  I went there several times when I went to BD. ...          4\n",
       "4  Food is relly tasty..but da environment is hor...          1"
      ]
     },
     "execution_count": 42,
     "metadata": {},
     "output_type": "execute_result"
    }
   ],
   "source": [
    "df"
   ]
  },
  {
   "cell_type": "code",
   "execution_count": null,
   "id": "2ae32ba1-88af-4ddd-9121-fb5b1102661f",
   "metadata": {},
   "outputs": [],
   "source": []
  }
 ],
 "metadata": {
  "kernelspec": {
   "display_name": "Python 3 (ipykernel)",
   "language": "python",
   "name": "python3"
  },
  "language_info": {
   "codemirror_mode": {
    "name": "ipython",
    "version": 3
   },
   "file_extension": ".py",
   "mimetype": "text/x-python",
   "name": "python",
   "nbconvert_exporter": "python",
   "pygments_lexer": "ipython3",
   "version": "3.8.18"
  }
 },
 "nbformat": 4,
 "nbformat_minor": 5
}
